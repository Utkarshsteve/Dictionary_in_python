{
 "cells": [
  {
   "cell_type": "code",
   "execution_count": 50,
   "metadata": {},
   "outputs": [
    {
     "name": "stdout",
     "output_type": "stream",
     "text": [
      "Enter word:Nba\n",
      "Did you mean netbag instead? Enter Y:Yes, N:No:N\n",
      "Wanna Google Search?Y:Yes,N:No:Y\n"
     ]
    }
   ],
   "source": [
    "import json\n",
    "from difflib import get_close_matches\n",
    "import webbrowser\n",
    "\n",
    "data=json.load(open(\"data.json\"))\n",
    "\n",
    "def translate(word):\n",
    "    word=word.lower()\n",
    "    x = get_close_matches(word,data.keys())\n",
    "\n",
    "    if word in data:\n",
    "        return data[word]\n",
    "    elif word.title() in data:\n",
    "        return data[word.title()]\n",
    "    elif word.isupper() in data:\n",
    "        return data[word.upper()] \n",
    "    elif len(x) > 0:\n",
    "        yn=input(\"Did you mean %s instead? Enter Y:Yes, N:No:\"%x[0])\n",
    "        if yn=='Y':\n",
    "            return data[get_close_matches(word,data.keys())[0]]\n",
    "        elif yn=='N':\n",
    "            gsearch=input(\"Wanna Google Search?Y:Yes,N:No:\")\n",
    "            if gsearch=='Y':\n",
    "                webbrowser.open('https://www.google.co.in/#q=%s' % word)\n",
    "                \n",
    "        else:\n",
    "            return \"We didn't understand your entry\"\n",
    "    else:\n",
    "        return \"Words does not exist\"\n",
    "word=input(\"Enter word:\")\n",
    "output=translate(word)\n",
    "\n",
    "if output !=None:\n",
    "    if type(output)==list:\n",
    "        for i in output:\n",
    "            print(i)\n",
    "    else:\n",
    "        print(output)\n",
    "        "
   ]
  }
 ],
 "metadata": {
  "kernelspec": {
   "display_name": "Python 3",
   "language": "python",
   "name": "python3"
  },
  "language_info": {
   "codemirror_mode": {
    "name": "ipython",
    "version": 3
   },
   "file_extension": ".py",
   "mimetype": "text/x-python",
   "name": "python",
   "nbconvert_exporter": "python",
   "pygments_lexer": "ipython3",
   "version": "3.7.1"
  }
 },
 "nbformat": 4,
 "nbformat_minor": 2
}
